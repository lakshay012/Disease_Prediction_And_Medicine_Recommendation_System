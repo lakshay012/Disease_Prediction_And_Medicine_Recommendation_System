{
 "cells": [
  {
   "cell_type": "code",
   "execution_count": 53,
   "id": "f8b21d5b-80ef-43cb-b47f-a7ce190a1577",
   "metadata": {},
   "outputs": [],
   "source": [
    "import pandas as pd\n",
    "import numpy as np\n",
    "from sklearn.model_selection import train_test_split\n",
    "from sklearn.preprocessing import LabelEncoder,StandardScaler\n",
    "from sklearn.tree import DecisionTreeClassifier\n",
    "from sklearn.neighbors import KNeighborsClassifier\n",
    "from sklearn.naive_bayes import MultinomialNB\n",
    "from sklearn.ensemble import RandomForestClassifier, GradientBoostingClassifier\n",
    "from sklearn.svm import SVC\n",
    "from sklearn.neural_network import MLPClassifier\n",
    "from sklearn.metrics import accuracy_score, precision_score, recall_score, f1_score\n",
    "import ast"
   ]
  },
  {
   "cell_type": "code",
   "execution_count": 7,
   "id": "2e685fac-5adb-4099-a1c4-a08e2e0066ce",
   "metadata": {},
   "outputs": [],
   "source": [
    "data = pd.read_csv(\"datasets/Training.csv\")\n",
    "testing_data = pd.read_csv(\"datasets/Testing.csv\")"
   ]
  },
  {
   "cell_type": "code",
   "execution_count": 9,
   "id": "93edd2dc-2926-445b-949e-5ea9c0817441",
   "metadata": {},
   "outputs": [
    {
     "data": {
      "text/html": [
       "<div>\n",
       "<style scoped>\n",
       "    .dataframe tbody tr th:only-of-type {\n",
       "        vertical-align: middle;\n",
       "    }\n",
       "\n",
       "    .dataframe tbody tr th {\n",
       "        vertical-align: top;\n",
       "    }\n",
       "\n",
       "    .dataframe thead th {\n",
       "        text-align: right;\n",
       "    }\n",
       "</style>\n",
       "<table border=\"1\" class=\"dataframe\">\n",
       "  <thead>\n",
       "    <tr style=\"text-align: right;\">\n",
       "      <th></th>\n",
       "      <th>itching</th>\n",
       "      <th>skin_rash</th>\n",
       "      <th>nodal_skin_eruptions</th>\n",
       "      <th>continuous_sneezing</th>\n",
       "      <th>shivering</th>\n",
       "      <th>chills</th>\n",
       "      <th>joint_pain</th>\n",
       "      <th>stomach_pain</th>\n",
       "      <th>acidity</th>\n",
       "      <th>ulcers_on_tongue</th>\n",
       "      <th>...</th>\n",
       "      <th>scurring</th>\n",
       "      <th>skin_peeling</th>\n",
       "      <th>silver_like_dusting</th>\n",
       "      <th>small_dents_in_nails</th>\n",
       "      <th>inflammatory_nails</th>\n",
       "      <th>blister</th>\n",
       "      <th>red_sore_around_nose</th>\n",
       "      <th>yellow_crust_ooze</th>\n",
       "      <th>prognosis</th>\n",
       "      <th>Unnamed: 133</th>\n",
       "    </tr>\n",
       "  </thead>\n",
       "  <tbody>\n",
       "    <tr>\n",
       "      <th>0</th>\n",
       "      <td>1</td>\n",
       "      <td>1</td>\n",
       "      <td>1</td>\n",
       "      <td>0</td>\n",
       "      <td>0</td>\n",
       "      <td>0</td>\n",
       "      <td>0</td>\n",
       "      <td>0</td>\n",
       "      <td>0</td>\n",
       "      <td>0</td>\n",
       "      <td>...</td>\n",
       "      <td>0</td>\n",
       "      <td>0</td>\n",
       "      <td>0</td>\n",
       "      <td>0</td>\n",
       "      <td>0</td>\n",
       "      <td>0</td>\n",
       "      <td>0</td>\n",
       "      <td>0</td>\n",
       "      <td>Fungal infection</td>\n",
       "      <td>NaN</td>\n",
       "    </tr>\n",
       "    <tr>\n",
       "      <th>1</th>\n",
       "      <td>0</td>\n",
       "      <td>1</td>\n",
       "      <td>1</td>\n",
       "      <td>0</td>\n",
       "      <td>0</td>\n",
       "      <td>0</td>\n",
       "      <td>0</td>\n",
       "      <td>0</td>\n",
       "      <td>0</td>\n",
       "      <td>0</td>\n",
       "      <td>...</td>\n",
       "      <td>0</td>\n",
       "      <td>0</td>\n",
       "      <td>0</td>\n",
       "      <td>0</td>\n",
       "      <td>0</td>\n",
       "      <td>0</td>\n",
       "      <td>0</td>\n",
       "      <td>0</td>\n",
       "      <td>Fungal infection</td>\n",
       "      <td>NaN</td>\n",
       "    </tr>\n",
       "    <tr>\n",
       "      <th>2</th>\n",
       "      <td>1</td>\n",
       "      <td>0</td>\n",
       "      <td>1</td>\n",
       "      <td>0</td>\n",
       "      <td>0</td>\n",
       "      <td>0</td>\n",
       "      <td>0</td>\n",
       "      <td>0</td>\n",
       "      <td>0</td>\n",
       "      <td>0</td>\n",
       "      <td>...</td>\n",
       "      <td>0</td>\n",
       "      <td>0</td>\n",
       "      <td>0</td>\n",
       "      <td>0</td>\n",
       "      <td>0</td>\n",
       "      <td>0</td>\n",
       "      <td>0</td>\n",
       "      <td>0</td>\n",
       "      <td>Fungal infection</td>\n",
       "      <td>NaN</td>\n",
       "    </tr>\n",
       "    <tr>\n",
       "      <th>3</th>\n",
       "      <td>1</td>\n",
       "      <td>1</td>\n",
       "      <td>0</td>\n",
       "      <td>0</td>\n",
       "      <td>0</td>\n",
       "      <td>0</td>\n",
       "      <td>0</td>\n",
       "      <td>0</td>\n",
       "      <td>0</td>\n",
       "      <td>0</td>\n",
       "      <td>...</td>\n",
       "      <td>0</td>\n",
       "      <td>0</td>\n",
       "      <td>0</td>\n",
       "      <td>0</td>\n",
       "      <td>0</td>\n",
       "      <td>0</td>\n",
       "      <td>0</td>\n",
       "      <td>0</td>\n",
       "      <td>Fungal infection</td>\n",
       "      <td>NaN</td>\n",
       "    </tr>\n",
       "    <tr>\n",
       "      <th>4</th>\n",
       "      <td>1</td>\n",
       "      <td>1</td>\n",
       "      <td>1</td>\n",
       "      <td>0</td>\n",
       "      <td>0</td>\n",
       "      <td>0</td>\n",
       "      <td>0</td>\n",
       "      <td>0</td>\n",
       "      <td>0</td>\n",
       "      <td>0</td>\n",
       "      <td>...</td>\n",
       "      <td>0</td>\n",
       "      <td>0</td>\n",
       "      <td>0</td>\n",
       "      <td>0</td>\n",
       "      <td>0</td>\n",
       "      <td>0</td>\n",
       "      <td>0</td>\n",
       "      <td>0</td>\n",
       "      <td>Fungal infection</td>\n",
       "      <td>NaN</td>\n",
       "    </tr>\n",
       "  </tbody>\n",
       "</table>\n",
       "<p>5 rows × 134 columns</p>\n",
       "</div>"
      ],
      "text/plain": [
       "   itching  skin_rash  nodal_skin_eruptions  continuous_sneezing  shivering  \\\n",
       "0        1          1                     1                    0          0   \n",
       "1        0          1                     1                    0          0   \n",
       "2        1          0                     1                    0          0   \n",
       "3        1          1                     0                    0          0   \n",
       "4        1          1                     1                    0          0   \n",
       "\n",
       "   chills  joint_pain  stomach_pain  acidity  ulcers_on_tongue  ...  scurring  \\\n",
       "0       0           0             0        0                 0  ...         0   \n",
       "1       0           0             0        0                 0  ...         0   \n",
       "2       0           0             0        0                 0  ...         0   \n",
       "3       0           0             0        0                 0  ...         0   \n",
       "4       0           0             0        0                 0  ...         0   \n",
       "\n",
       "   skin_peeling  silver_like_dusting  small_dents_in_nails  \\\n",
       "0             0                    0                     0   \n",
       "1             0                    0                     0   \n",
       "2             0                    0                     0   \n",
       "3             0                    0                     0   \n",
       "4             0                    0                     0   \n",
       "\n",
       "   inflammatory_nails  blister  red_sore_around_nose  yellow_crust_ooze  \\\n",
       "0                   0        0                     0                  0   \n",
       "1                   0        0                     0                  0   \n",
       "2                   0        0                     0                  0   \n",
       "3                   0        0                     0                  0   \n",
       "4                   0        0                     0                  0   \n",
       "\n",
       "          prognosis  Unnamed: 133  \n",
       "0  Fungal infection           NaN  \n",
       "1  Fungal infection           NaN  \n",
       "2  Fungal infection           NaN  \n",
       "3  Fungal infection           NaN  \n",
       "4  Fungal infection           NaN  \n",
       "\n",
       "[5 rows x 134 columns]"
      ]
     },
     "execution_count": 9,
     "metadata": {},
     "output_type": "execute_result"
    }
   ],
   "source": [
    "data.head()"
   ]
  },
  {
   "cell_type": "code",
   "execution_count": 11,
   "id": "a75538f2-9219-4f13-9bd9-ed26ecf8e4e9",
   "metadata": {},
   "outputs": [],
   "source": [
    "data = data.drop(\"Unnamed: 133\", axis=1)\n"
   ]
  },
  {
   "cell_type": "code",
   "execution_count": 13,
   "id": "feda581d-e544-4a6d-bf08-9a18e049fd35",
   "metadata": {},
   "outputs": [],
   "source": [
    "X_train = data.drop('prognosis', axis=1)  # Assuming 'prognosis' is the target variable\n",
    "y_train = data['prognosis']"
   ]
  },
  {
   "cell_type": "code",
   "execution_count": 15,
   "id": "9540915f-13a7-4ea5-a70c-2dc009a0e4e4",
   "metadata": {},
   "outputs": [],
   "source": [
    "LabelEncoder\n",
    "label_encoder = LabelEncoder()\n",
    "y_train_encoded = label_encoder.fit_transform(y_train)\n",
    "\n",
    "# Standardize numerical features (if applicable)\n",
    "scaler = StandardScaler()\n",
    "X_train_scaled = scaler.fit_transform(X_train)"
   ]
  },
  {
   "cell_type": "code",
   "execution_count": 17,
   "id": "102cedb0-076e-4d3c-8304-ff7203e1b7b5",
   "metadata": {},
   "outputs": [],
   "source": [
    "# Preprocess the testing data (using the same scaler and encoder)\n",
    "X_test = testing_data.drop('prognosis', axis=1)\n",
    "y_test = testing_data['prognosis']\n",
    "\n",
    "X_test_scaled = scaler.transform(X_test)\n",
    "y_test_encoded = label_encoder.transform(y_test)\n"
   ]
  },
  {
   "cell_type": "code",
   "execution_count": 19,
   "id": "33ce6e5f-564b-460c-bbc3-fa77156bf665",
   "metadata": {},
   "outputs": [
    {
     "data": {
      "text/plain": [
       "array([[ 2.50132708,  2.29336913,  6.6749948 , ..., -0.15401412,\n",
       "        -0.15401412, -0.15401412],\n",
       "       [-0.39978778, -0.4360397 , -0.14981285, ..., -0.15401412,\n",
       "        -0.15401412, -0.15401412],\n",
       "       [-0.39978778, -0.4360397 , -0.14981285, ..., -0.15401412,\n",
       "        -0.15401412, -0.15401412],\n",
       "       ...,\n",
       "       [-0.39978778,  2.29336913, -0.14981285, ..., -0.15401412,\n",
       "        -0.15401412, -0.15401412],\n",
       "       [-0.39978778,  2.29336913, -0.14981285, ...,  6.49291111,\n",
       "         6.49291111,  6.49291111],\n",
       "       [ 2.50132708,  2.29336913, -0.14981285, ..., -0.15401412,\n",
       "         6.49291111, -0.15401412]])"
      ]
     },
     "execution_count": 19,
     "metadata": {},
     "output_type": "execute_result"
    }
   ],
   "source": [
    "X_test_scaled"
   ]
  },
  {
   "cell_type": "code",
   "execution_count": 21,
   "id": "ce9268bd-f4ff-42cc-87d2-9126b1115dc5",
   "metadata": {},
   "outputs": [
    {
     "name": "stderr",
     "output_type": "stream",
     "text": [
      "F:\\lakshay\\anaconda\\Lib\\site-packages\\sklearn\\base.py:486: UserWarning: X has feature names, but KNeighborsClassifier was fitted without feature names\n",
      "  warnings.warn(\n",
      "F:\\lakshay\\anaconda\\Lib\\site-packages\\sklearn\\base.py:486: UserWarning: X has feature names, but DecisionTreeClassifier was fitted without feature names\n",
      "  warnings.warn(\n",
      "F:\\lakshay\\anaconda\\Lib\\site-packages\\sklearn\\base.py:486: UserWarning: X has feature names, but RandomForestClassifier was fitted without feature names\n",
      "  warnings.warn(\n",
      "F:\\lakshay\\anaconda\\Lib\\site-packages\\sklearn\\base.py:486: UserWarning: X has feature names, but SVC was fitted without feature names\n",
      "  warnings.warn(\n",
      "F:\\lakshay\\anaconda\\Lib\\site-packages\\sklearn\\base.py:486: UserWarning: X has feature names, but MLPClassifier was fitted without feature names\n",
      "  warnings.warn(\n"
     ]
    },
    {
     "name": "stdout",
     "output_type": "stream",
     "text": [
      "model trained succesfully!\n"
     ]
    },
    {
     "name": "stderr",
     "output_type": "stream",
     "text": [
      "F:\\lakshay\\anaconda\\Lib\\site-packages\\sklearn\\base.py:486: UserWarning: X has feature names, but GradientBoostingClassifier was fitted without feature names\n",
      "  warnings.warn(\n"
     ]
    }
   ],
   "source": [
    "models = {\n",
    "    \"KNeighbors\": KNeighborsClassifier(n_neighbors=5),\n",
    "    \"Decision Tree\": DecisionTreeClassifier(),\n",
    "    \"Random Forest\": RandomForestClassifier(),\n",
    "    \"SVM\": SVC(),\n",
    "    \"Neural Network\": MLPClassifier(),\n",
    "    \"Gradient Boosting\": GradientBoostingClassifier(),\n",
    "}\n",
    "\n",
    "results = {}\n",
    "for model_name, model in models.items():\n",
    "    model.fit(X_train_scaled, y_train_encoded)\n",
    "    y_pred_encoded = model.predict(testing_data.drop('prognosis', axis=1))\n",
    "    y_pred = label_encoder.inverse_transform(y_pred_encoded)\n",
    "\n",
    "    accuracy = accuracy_score(y_test, y_pred)\n",
    "    recall = recall_score(y_test, y_pred, average='micro')\n",
    "    f1 = f1_score(y_test, y_pred, average='micro')\n",
    "\n",
    "    results[model_name] = {'accuracy': accuracy, 'recall': recall, 'f1': f1}\n",
    "\n",
    "print(\"model trained succesfully!\")\n",
    "\n",
    "\n"
   ]
  },
  {
   "cell_type": "code",
   "execution_count": 23,
   "id": "6eafe078-fc10-40ee-be39-ccdf6a678a32",
   "metadata": {},
   "outputs": [
    {
     "name": "stdout",
     "output_type": "stream",
     "text": [
      "KNeighbors:\n",
      "  Accuracy: 0.1429\n",
      "  Recall: 0.1429\n",
      "  F1-score: 0.1429\n",
      "Decision Tree:\n",
      "  Accuracy: 0.2143\n",
      "  Recall: 0.2143\n",
      "  F1-score: 0.2143\n",
      "Random Forest:\n",
      "  Accuracy: 0.4048\n",
      "  Recall: 0.4048\n",
      "  F1-score: 0.4048\n",
      "SVM:\n",
      "  Accuracy: 0.2143\n",
      "  Recall: 0.2143\n",
      "  F1-score: 0.2143\n",
      "Neural Network:\n",
      "  Accuracy: 0.9762\n",
      "  Recall: 0.9762\n",
      "  F1-score: 0.9762\n",
      "Gradient Boosting:\n",
      "  Accuracy: 0.0714\n",
      "  Recall: 0.0714\n",
      "  F1-score: 0.0714\n"
     ]
    }
   ],
   "source": [
    "# Print the accuracy, recall, and F1-score for each model\n",
    "for model_name, metrics in results.items():\n",
    "    print(f\"{model_name}:\")\n",
    "    print(f\"  Accuracy: {metrics['accuracy']:.4f}\")\n",
    "    print(f\"  Recall: {metrics['recall']:.4f}\")\n",
    "    print(f\"  F1-score: {metrics['f1']:.4f}\")"
   ]
  },
  {
   "cell_type": "code",
   "execution_count": 25,
   "id": "d41f4486-dc01-4cff-8730-3125c28d668d",
   "metadata": {},
   "outputs": [
    {
     "name": "stdout",
     "output_type": "stream",
     "text": [
      "Best Model by Accuracy: Neural Network\n",
      "Final Performance of Neural Network:\n",
      "\tAccuracy: 0.9761904761904762\n",
      "\n"
     ]
    }
   ],
   "source": [
    "# Find Best Model\n",
    "best_model_name = None\n",
    "best_accuracy = 0\n",
    "for model_name, results in results.items():\n",
    "  accuracy = results['accuracy']\n",
    "  if accuracy > best_accuracy:\n",
    "    best_model_name = model_name\n",
    "    best_accuracy = accuracy\n",
    "\n",
    "print(f\"Best Model by Accuracy: {best_model_name}\")\n",
    "\n",
    "# Train Best Model on All Training Data\n",
    "best_model = models[best_model_name]\n",
    "best_model.fit(X_train_scaled, y_train_encoded)\n",
    "\n",
    "# Final Evaluation (Optional)\n",
    "y_pred_encoded = best_model.predict(X_test_scaled)\n",
    "y_pred = label_encoder.inverse_transform(y_pred_encoded)\n",
    "\n",
    "accuracy = accuracy_score(y_test, y_pred)\n",
    "recall = recall_score(y_test, y_pred, average='micro')\n",
    "f1 = f1_score(y_test, y_pred, average='micro')\n",
    "\n",
    "print(f\"Final Performance of {best_model_name}:\")\n",
    "print(f\"\\tAccuracy: {accuracy}\")\n",
    "print(f\"\")\n",
    "\n",
    "MLP = best_model"
   ]
  },
  {
   "cell_type": "code",
   "execution_count": 29,
   "id": "31c5f321-f8e6-4459-8a33-cc5d8c7f8049",
   "metadata": {},
   "outputs": [
    {
     "name": "stdout",
     "output_type": "stream",
     "text": [
      "Best model saved successfully!\n"
     ]
    }
   ],
   "source": [
    "# ... (Your existing code for finding the best model and training it)\n",
    "\n",
    "# Save the final model with pickle\n",
    "import pickle\n",
    "\n",
    "with open('model/MLP.pkl', 'wb') as f:\n",
    "    pickle.dump(MLP, f)\n",
    "\n",
    "print(\"Best model saved successfully!\")"
   ]
  },
  {
   "cell_type": "code",
   "execution_count": 31,
   "id": "779ad30a-53d8-4225-8b7d-4baddc002cf5",
   "metadata": {},
   "outputs": [],
   "source": [
    "le = LabelEncoder()\n",
    "le.fit(y_test)\n",
    "y_test_encoded = le.transform(y_test)"
   ]
  },
  {
   "cell_type": "code",
   "execution_count": 35,
   "id": "5e3f098c-da03-4a5c-ae48-9d2378d34acc",
   "metadata": {},
   "outputs": [
    {
     "name": "stdout",
     "output_type": "stream",
     "text": [
      "predicted disease : [15]\n",
      "Actual Disease : 15\n"
     ]
    }
   ],
   "source": [
    "# Load the saved model\n",
    "with open('model/MLP.pkl', 'rb') as f:\n",
    "    best_model = pickle.load(f)\n",
    "\n",
    "print(\"predicted disease :\",MLP.predict(X_test.iloc[0].values.reshape(1,-1)))\n",
    "print(\"Actual Disease :\", y_test_encoded[0])"
   ]
  },
  {
   "cell_type": "code",
   "execution_count": 39,
   "id": "5a45e7ca-61fa-4c6b-9781-f977edde1980",
   "metadata": {},
   "outputs": [],
   "source": [
    "medications = pd.read_csv('datasets/medications.csv')\n",
    "symptoms_df = pd.read_csv('datasets/symptoms.csv')\n",
    "diseases_df = pd.read_csv('datasets/diseases.csv')"
   ]
  },
  {
   "cell_type": "code",
   "execution_count": 45,
   "id": "7c6e95e4-d9e1-45d7-86a2-b973b63f7352",
   "metadata": {},
   "outputs": [],
   "source": [
    "def helper(dis):\n",
    "\n",
    "    med = medications[medications['Disease'] == dis]['Medication']\n",
    "    med = [med for med in med.values]\n",
    "    return ast.literal_eval(med[0])\n",
    "\n",
    "    return med"
   ]
  },
  {
   "cell_type": "code",
   "execution_count": 47,
   "id": "1465e448-53cd-4d49-9be5-0022e1e909c9",
   "metadata": {},
   "outputs": [],
   "source": [
    "symptoms_dict = pd.Series(symptoms_df.Index.values, index=symptoms_df.Symptom).to_dict()\n",
    "diseases_list = pd.Series(diseases_df.Disease.values, index=diseases_df.Index).to_dict()\n",
    "\n",
    "# Model Prediction function\n",
    "def get_predicted_value(patient_symptoms):\n",
    "    input_vector = np.zeros(len(symptoms_dict))\n",
    "    for item in patient_symptoms:\n",
    "        input_vector[symptoms_dict[item]] = 1\n",
    "    return diseases_list[MLP.predict([input_vector])[0]]"
   ]
  },
  {
   "cell_type": "code",
   "execution_count": 55,
   "id": "2d26e24e-25be-4041-8d3b-a1cb16e804dd",
   "metadata": {},
   "outputs": [
    {
     "name": "stdin",
     "output_type": "stream",
     "text": [
      "Enter your symptoms....... itching\n"
     ]
    },
    {
     "name": "stdout",
     "output_type": "stream",
     "text": [
      "=================predicted disease============\n",
      "Chronic cholestasis\n",
      "=================medications==================\n",
      "1 :  Ursodeoxycholic acid\n",
      "2 :  Cholestyramine\n",
      "3 :  Methotrexate\n",
      "4 :  Corticosteroids\n",
      "5 :  Liver transplant\n"
     ]
    }
   ],
   "source": [
    "# Split the user's input into a list of symptoms (assuming they are comma-separated) # itching,skin_rash,nodal_skin_eruptions\n",
    "symptoms = input(\"Enter your symptoms.......\")\n",
    "user_symptoms = [s.strip() for s in symptoms.split(',')]\n",
    "# Remove any extra characters, if any\n",
    "user_symptoms = [symptom.strip(\"[]' \") for symptom in user_symptoms]\n",
    "predicted_disease = get_predicted_value(user_symptoms)\n",
    "\n",
    "med = helper(predicted_disease)\n",
    "\n",
    "print(\"=================predicted disease============\")\n",
    "print(predicted_disease)\n",
    "print(\"=================medications==================\")\n",
    "i = 1\n",
    "for m_i in med:\n",
    "    print(i, \": \", m_i)\n",
    "    i += 1"
   ]
  },
  {
   "cell_type": "code",
   "execution_count": null,
   "id": "cadccd6c-685a-458e-9fc9-46c775843d1e",
   "metadata": {},
   "outputs": [
    {
     "name": "stdout",
     "output_type": "stream",
     "text": [
      "1.5.2\n"
     ]
    }
   ],
   "source": [
    "import sklearn\n",
    "print(sklearn.__version__)"
   ]
  },
  {
   "cell_type": "code",
   "execution_count": null,
   "id": "844c0182-4e78-4805-89e3-46b8408b08f1",
   "metadata": {},
   "outputs": [],
   "source": []
  }
 ],
 "metadata": {
  "kernelspec": {
   "display_name": "Python 3 (ipykernel)",
   "language": "python",
   "name": "python3"
  },
  "language_info": {
   "codemirror_mode": {
    "name": "ipython",
    "version": 3
   },
   "file_extension": ".py",
   "mimetype": "text/x-python",
   "name": "python",
   "nbconvert_exporter": "python",
   "pygments_lexer": "ipython3",
   "version": "3.12.4"
  }
 },
 "nbformat": 4,
 "nbformat_minor": 5
}
